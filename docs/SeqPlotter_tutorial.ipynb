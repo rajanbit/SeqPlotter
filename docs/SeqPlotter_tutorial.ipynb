{
 "cells": [
  {
   "cell_type": "markdown",
   "id": "b370b9c6-bc23-4ec0-ad90-f209bab6defd",
   "metadata": {},
   "source": [
    "# SeqPlotter: Python package for sequence data analysis and visualization\n",
    "**SeqPlotter is a Python package developed to streamline the visualization and analysis of biological sequence data. It provides seamlessly integration into your Python workflow, with robust data handling capabilities, intuitive visualization, and useful analysis features. From parsing raw sequence files to creating stunning plots and charts.**"
   ]
  },
  {
   "cell_type": "markdown",
   "id": "7bb31dbc-fa66-4fb3-8817-4909347011ff",
   "metadata": {},
   "source": [
    "# 1. Working with DNA sequences"
   ]
  },
  {
   "cell_type": "markdown",
   "id": "b6ee14eb-a81b-4348-82ed-f32efd78f415",
   "metadata": {},
   "source": [
    "### 1.1. Importing DNA module"
   ]
  },
  {
   "cell_type": "code",
   "execution_count": 1,
   "id": "23305f31-4f11-4129-9899-153b29ec66fc",
   "metadata": {},
   "outputs": [],
   "source": [
    "# Importing module\n",
    "from seqplotter.nucl import DNA"
   ]
  },
  {
   "cell_type": "markdown",
   "id": "d152fd54-6aba-4872-9076-e49a80b60818",
   "metadata": {},
   "source": [
    "### 1.2. Creating DNA objects\n",
    "```\n",
    ">>> dna_seq1 = DNA(\"seqID\", \"DNA_sequence\")\n",
    "```\n",
    "**Output:** retruns a DNA object with seqid and seq pair"
   ]
  },
  {
   "cell_type": "code",
   "execution_count": 2,
   "id": "e3e40529-fd50-40e6-811d-02b5cb82ec1a",
   "metadata": {},
   "outputs": [],
   "source": [
    "# creating DNA object with seqID and sequence pair\n",
    "seq1 = DNA(\"seq1\", \"GTGTTTTGACTAATAATTGGTCAAGCCTA\")"
   ]
  },
  {
   "cell_type": "markdown",
   "id": "90624bb3-36a2-49b0-ae3d-749f810c3f83",
   "metadata": {},
   "source": [
    "### 1.3. Sequence length\n",
    "```\n",
    ">>> dna_seq1.length()\n",
    "```\n",
    "**Output:** returns sequence length (int) in bp"
   ]
  },
  {
   "cell_type": "code",
   "execution_count": 3,
   "id": "b8396a85-49af-4d8f-958c-4c71f5da2c7d",
   "metadata": {},
   "outputs": [
    {
     "data": {
      "text/plain": [
       "29"
      ]
     },
     "execution_count": 3,
     "metadata": {},
     "output_type": "execute_result"
    }
   ],
   "source": [
    "# print sequence length\n",
    "seq1.length()"
   ]
  },
  {
   "cell_type": "markdown",
   "id": "36d5ad4b-2955-49cb-8851-904e839a25b6",
   "metadata": {},
   "source": [
    "### 1.4. Sequence composition\n",
    "```\n",
    ">>> dna_seq1.comp()\n",
    "```\n",
    "**Output:** returns a dict object with sequence composition i.e. count of each nucleotides"
   ]
  },
  {
   "cell_type": "code",
   "execution_count": 4,
   "id": "8b87b987-373c-435a-9bbd-8730b5a2866d",
   "metadata": {},
   "outputs": [
    {
     "data": {
      "text/plain": [
       "{'A': 27.586206896551722,\n",
       " 'T': 37.93103448275862,\n",
       " 'G': 20.689655172413794,\n",
       " 'C': 13.793103448275861}"
      ]
     },
     "execution_count": 4,
     "metadata": {},
     "output_type": "execute_result"
    }
   ],
   "source": [
    "# print sequence composition\n",
    "seq1.comp()"
   ]
  },
  {
   "cell_type": "markdown",
   "id": "3da63ad1-c727-4774-8e4a-3bb450110d13",
   "metadata": {},
   "source": [
    "### 1.5 Sequence composition barplot\n",
    "```\n",
    ">>> seq1_comp = dna_seq1.comp()\n",
    ">>> DNA.barplot(seq1_comp)\n",
    "```\n",
    "**Output:** generate barplot showing sequence composition"
   ]
  },
  {
   "cell_type": "code",
   "execution_count": 5,
   "id": "6b0d73d9-9e89-473f-80c7-23d81730c85c",
   "metadata": {},
   "outputs": [
    {
     "data": {
      "image/png": "[encoded data removed]",
      "text/plain": [
       "<Figure size 640x480 with 1 Axes>"
      ]
     },
     "metadata": {},
     "output_type": "display_data"
    }
   ],
   "source": [
    "# plot sequence composition\n",
    "comp = seq1.comp()\n",
    "DNA.barplot(comp)"
   ]
  },
  {
   "cell_type": "markdown",
   "id": "6de182b2-cd3d-4b61-a814-a647fe1afc5c",
   "metadata": {},
   "source": [
    "### 1.6. Sequence slicing\n",
    "```\n",
    ">>> # returns nucleotide for the given position\n",
    ">>> dna_seq1.slice(pos)\n",
    "\n",
    ">>> # returns nucleotides between start to end position\n",
    ">>> dna_seq1.slice(start_pos, end_pos)\n",
    "```\n",
    "**Output:** returns a string that contain the sliced sequence"
   ]
  },
  {
   "cell_type": "code",
   "execution_count": 6,
   "id": "b39b6081-46eb-4c42-a882-fe6821cd42ea",
   "metadata": {},
   "outputs": [
    {
     "data": {
      "text/plain": [
       "'T'"
      ]
     },
     "execution_count": 6,
     "metadata": {},
     "output_type": "execute_result"
    }
   ],
   "source": [
    "# slice particular position\n",
    "seq1.slice(2)"
   ]
  },
  {
   "cell_type": "code",
   "execution_count": 7,
   "id": "749bba26-2ffa-4f44-9711-99fb484c8264",
   "metadata": {},
   "outputs": [
    {
     "data": {
      "text/plain": [
       "'TGTT'"
      ]
     },
     "execution_count": 7,
     "metadata": {},
     "output_type": "execute_result"
    }
   ],
   "source": [
    "# slice with start and end index\n",
    "seq1.slice(2,5)"
   ]
  },
  {
   "cell_type": "markdown",
   "id": "2555fdc4-02bb-4000-91c9-3192e2eba92e",
   "metadata": {},
   "source": [
    "### 1.7. GC content\n",
    "```\n",
    ">>> dna_seq1.gc_percent()\n",
    "```\n",
    "**Output:** returns GC percent (string)"
   ]
  },
  {
   "cell_type": "code",
   "execution_count": 8,
   "id": "ec4fc9f8-ff78-422e-8e6c-f0c3f047bcf6",
   "metadata": {},
   "outputs": [
    {
     "data": {
      "text/plain": [
       "'34.48'"
      ]
     },
     "execution_count": 8,
     "metadata": {},
     "output_type": "execute_result"
    }
   ],
   "source": [
    "# GC percent\n",
    "seq1.gc_percent()"
   ]
  },
  {
   "cell_type": "markdown",
   "id": "872acb92-4d25-425c-ab6f-1a17f801ceae",
   "metadata": {},
   "source": [
    "### 1.8. K-mer abundance plot\n",
    "```\n",
    "# generated k-mer plot with default kmer size (k=3)\n",
    ">>> dna_seq1..kmer_abundance_plot()\n",
    "\n",
    "# generate k-mer plot with k=6\n",
    ">>> dna_seq1..kmer_abundance_plot(6)\n",
    "```\n",
    "**Output:** generate k-mer plot (histogram)"
   ]
  },
  {
   "cell_type": "code",
   "execution_count": 9,
   "id": "2ad4cc37-a5c7-4f48-9d7c-c4043b2aebfb",
   "metadata": {},
   "outputs": [
    {
     "data": {
      "image/png": "[encoded data removed]",
      "text/plain": [
       "<Figure size 640x480 with 1 Axes>"
      ]
     },
     "metadata": {},
     "output_type": "display_data"
    }
   ],
   "source": [
    "# kmer abundance plot\n",
    "seq1.kmer_abundance_plot()"
   ]
  },
  {
   "cell_type": "markdown",
   "id": "757f706a-7719-4bc0-84a1-82999ca76a4c",
   "metadata": {},
   "source": [
    "### 1.9. Readling FASTA file (DNA Sequence)\n",
    "```\n",
    ">>> fasta_records = DNA.read_fasta(\"/path/to/fasta/file\")\n",
    "```\n",
    "**Output:** returns a list containing DNA object(s)"
   ]
  },
  {
   "cell_type": "code",
   "execution_count": 10,
   "id": "cfc71467-9399-402c-90c1-d1ed0dc59f0b",
   "metadata": {},
   "outputs": [],
   "source": [
    "# reading a FASTA file\n",
    "data = DNA.read_fasta(\"seq.fasta\")"
   ]
  },
  {
   "cell_type": "markdown",
   "id": "3c8feddc-210b-4258-b73a-614b77e3fe43",
   "metadata": {},
   "source": [
    "### 1.10. Using head() and tail() functions\n",
    "```\n",
    ">>> # return summary of first 5 sequence (default)\n",
    ">>> DNA.head()\n",
    "\n",
    ">>> # return summary of first 10 sequence\n",
    ">>> DNA.head(10)\n",
    "\n",
    ">>> # return summary of last 5 sequence (default)\n",
    ">>> DNA.tail()\n",
    "\n",
    ">>> # return summary of last 10 sequence\n",
    ">>> DNA.tail(10)\n",
    "```\n",
    "**Output:** print head and tail summary of parsed FASTA file"
   ]
  },
  {
   "cell_type": "code",
   "execution_count": 11,
   "id": "db1bed99-6b24-4cab-87dd-3b8c409a2f26",
   "metadata": {},
   "outputs": [
    {
     "name": "stdout",
     "output_type": "stream",
     "text": [
      "seqID\tseq\n",
      "seq1:\t[CTTTTCTTTAGTGTTTTGACTAATAATTGGTCAAGCCTACCATTACAAACTATGTTCCATTACCAGTACA]\n",
      "seq2:\t[CTTTTCTTTAGTGTTTTGACTAATAATTGGTCAAGCCTACCATTACAAACTATGTTCCATTACCAGTACA]\n",
      "seq3:\t[CTTTTCTTTAGTGTTTTGACTAATAATTGGTCAAGCCTACCATTACAAACTATGTTCCATTACCAGTACA]\n",
      "seq4:\t[CTTTTCTTTAGTGTTTTGACTAATAATTGGAAACTATGTTCCATTACCAGTACA]\n",
      "seq5:\t[TCACAGAAGAGCAAGAGGCTCTTGTAGTGAAGTCTTGGAGTGTCATGAAGAAAAACTCAGCTGAATTAGG]\n"
     ]
    }
   ],
   "source": [
    "# print first five records (by default)\n",
    "DNA.head()"
   ]
  },
  {
   "cell_type": "code",
   "execution_count": 12,
   "id": "ea2f131b-bfde-40bd-be51-d1f3d5681ab4",
   "metadata": {},
   "outputs": [
    {
     "name": "stdout",
     "output_type": "stream",
     "text": [
      "seqID\tseq\n",
      "seq1:\t[CTTTTCTTTAGTGTTTTGACTAATAATTGGTCAAGCCTACCATTACAAACTATGTTCCATTACCAGTACA]\n",
      "seq2:\t[CTTTTCTTTAGTGTTTTGACTAATAATTGGTCAAGCCTACCATTACAAACTATGTTCCATTACCAGTACA]\n"
     ]
    }
   ],
   "source": [
    "# print first two records\n",
    "DNA.head(2)"
   ]
  },
  {
   "cell_type": "code",
   "execution_count": 13,
   "id": "c576120d-6704-424a-9c1a-22520c6db8b1",
   "metadata": {},
   "outputs": [
    {
     "name": "stdout",
     "output_type": "stream",
     "text": [
      "seqID\tseq\n",
      "seq5:\t[TCACAGAAGAGCAAGAGGCTCTTGTAGTGAAGTCTTGGAGTGTCATGAAGAAAAACTCAGCTGAATTAGG]\n",
      "seq6:\t[TCTCAAACTCTTCATCAAGTAAGTAATGATCCCATTGATCTCTCTCTATTTTCTTTTTATGTATATAGCA]\n",
      "seq7:\t[TGAGATATGAACTACTATTTTGAACTGTAGGATCTTTGAGATTGCACCAACAACGA]\n",
      "seq8:\t[TTCTTGAGAGACTCACCAATTCCTGCTGAGCAAAATCCAAAGCTCAAGCCTCACGCAATGTCTGT]\n",
      "seq9:\t[TCATGGTAATAATCAATATCAAATAACATGATTTT]\n"
     ]
    }
   ],
   "source": [
    "# print last five records (by default)\n",
    "DNA.tail()"
   ]
  },
  {
   "cell_type": "code",
   "execution_count": 14,
   "id": "e7bfbda5-ace3-418e-9196-179095e57d41",
   "metadata": {},
   "outputs": [
    {
     "name": "stdout",
     "output_type": "stream",
     "text": [
      "seqID\tseq\n",
      "seq7:\t[TGAGATATGAACTACTATTTTGAACTGTAGGATCTTTGAGATTGCACCAACAACGA]\n",
      "seq8:\t[TTCTTGAGAGACTCACCAATTCCTGCTGAGCAAAATCCAAAGCTCAAGCCTCACGCAATGTCTGT]\n",
      "seq9:\t[TCATGGTAATAATCAATATCAAATAACATGATTTT]\n"
     ]
    }
   ],
   "source": [
    "# print last six records\n",
    "DNA.tail(3)"
   ]
  },
  {
   "cell_type": "markdown",
   "id": "7c6084c1-cee3-4fb7-b55f-94735794134a",
   "metadata": {},
   "source": [
    "### 1.11. Count  records\n",
    "```\n",
    ">>> DNA.count(fasta_records)\n",
    "```\n",
    "**Output:** returns sequence count (int) i.e. number of records"
   ]
  },
  {
   "cell_type": "code",
   "execution_count": 15,
   "id": "7af77227-47c9-464f-b4aa-f2383bde876f",
   "metadata": {},
   "outputs": [
    {
     "data": {
      "text/plain": [
       "9"
      ]
     },
     "execution_count": 15,
     "metadata": {},
     "output_type": "execute_result"
    }
   ],
   "source": [
    "# print record counts\n",
    "DNA.count(data)"
   ]
  },
  {
   "cell_type": "markdown",
   "id": "0a7c96e3-896f-478e-969f-6ba89040b376",
   "metadata": {},
   "source": [
    "### 1.12. GC percent per sequence plot\n",
    "```\n",
    ">>> DNA.gc_plot(fasta_records)\n",
    "```\n",
    "**Output**: generate barplot showing per sequence GC percent"
   ]
  },
  {
   "cell_type": "code",
   "execution_count": 16,
   "id": "d91e3118-aaba-4fd8-be4c-31572a6f8162",
   "metadata": {},
   "outputs": [
    {
     "data": {
      "image/png": "[encoded data removed]",
      "text/plain": [
       "<Figure size 640x480 with 1 Axes>"
      ]
     },
     "metadata": {},
     "output_type": "display_data"
    }
   ],
   "source": [
    "# GC barplot\n",
    "DNA.gc_plot(data)"
   ]
  },
  {
   "cell_type": "markdown",
   "id": "cdc3caf2-933b-4677-a317-29fae9a30baa",
   "metadata": {},
   "source": [
    "### 1.13. Boxplot showing GC distribution\n",
    "```\n",
    ">>> DNA.gc_distribution_plot(fasta_records)\n",
    "```\n",
    "**Output**: generate boxplot showing overall GC distribution across all the sequences"
   ]
  },
  {
   "cell_type": "code",
   "execution_count": 17,
   "id": "f5bfaa62-ffeb-4e41-9ac3-e0ba6ca63f80",
   "metadata": {},
   "outputs": [
    {
     "data": {
      "image/png": "[encoded data removed]",
      "text/plain": [
       "<Figure size 640x480 with 1 Axes>"
      ]
     },
     "metadata": {},
     "output_type": "display_data"
    }
   ],
   "source": [
    "# GC distribution plot\n",
    "DNA.gc_distribution_plot(data)"
   ]
  },
  {
   "cell_type": "markdown",
   "id": "51944d78-d4ba-43b2-b484-5d067fbc5cfc",
   "metadata": {},
   "source": [
    "### 1.14. Boxplot showing nucleotides distribution\n",
    "```\n",
    ">>> DNA.nt_distribution_plot(fasta_records)\n",
    "```\n",
    "**Output**: generate boxplot showing overall nucleotides distribution across all the sequences"
   ]
  },
  {
   "cell_type": "code",
   "execution_count": 18,
   "id": "fb7ccd49-5e44-40fb-86cf-80a8705bd9fb",
   "metadata": {},
   "outputs": [
    {
     "data": {
      "image/png": "[encoded data removed]",
      "text/plain": [
       "<Figure size 640x480 with 1 Axes>"
      ]
     },
     "metadata": {},
     "output_type": "display_data"
    }
   ],
   "source": [
    "# Nucleotides distribution plot\n",
    "DNA.nt_distribution_plot(data)"
   ]
  },
  {
   "cell_type": "markdown",
   "id": "09ee4e0c-86fe-4570-aea0-b7d332143f7e",
   "metadata": {},
   "source": [
    "### 1.15. Stacked barplot showing per sequence base composition\n",
    "```\n",
    ">>> DNA.per_sequence_comp(fasta_records)\n",
    "```\n",
    "**Output:** generate stacked barplot showing per sequence nucleotide composition"
   ]
  },
  {
   "cell_type": "code",
   "execution_count": 19,
   "id": "99941282-efb7-4109-8d7a-ecc3d0d16400",
   "metadata": {},
   "outputs": [
    {
     "data": {
      "image/png": "[encoded data removed]",
      "text/plain": [
       "<Figure size 640x480 with 1 Axes>"
      ]
     },
     "metadata": {},
     "output_type": "display_data"
    }
   ],
   "source": [
    "# Per sequence nucleotides composition\n",
    "DNA.per_sequence_comp(data)"
   ]
  },
  {
   "cell_type": "markdown",
   "id": "4fae62a4-edd7-4f56-ae85-9be090a26493",
   "metadata": {},
   "source": [
    "### 1.16. Barplot showing per sequence length\n",
    "```\n",
    ">>> DNA.length_plot(fasta_records)\n",
    "```\n",
    "**Output:** generate barplot showing per sequence length distribution"
   ]
  },
  {
   "cell_type": "code",
   "execution_count": 20,
   "id": "719974bd-96c4-4ca5-8033-3fb47485503d",
   "metadata": {},
   "outputs": [
    {
     "data": {
      "image/png": "[encoded data removed]",
      "text/plain": [
       "<Figure size 640x480 with 1 Axes>"
      ]
     },
     "metadata": {},
     "output_type": "display_data"
    }
   ],
   "source": [
    "# Per sequence length \n",
    "DNA.length_plot(data)"
   ]
  },
  {
   "cell_type": "markdown",
   "id": "831843de-0f07-4ad0-800b-e5c67c3fd541",
   "metadata": {},
   "source": [
    "### 1.17. Boxplot showing overall length distribution\n",
    "```\n",
    ">>> DNA.length_distribution_plot(fasta_records)\n",
    "```\n",
    "**Output:** generate boxplot showing overall length distribution across all the sequences"
   ]
  },
  {
   "cell_type": "code",
   "execution_count": 21,
   "id": "86e5e0a7-0850-498e-825b-ddc5b90b74d5",
   "metadata": {},
   "outputs": [
    {
     "data": {
      "image/png": "[encoded data removed]",
      "text/plain": [
       "<Figure size 640x480 with 1 Axes>"
      ]
     },
     "metadata": {},
     "output_type": "display_data"
    }
   ],
   "source": [
    "# Boxplot showing length distribution\n",
    "DNA.length_distribution_plot(data)"
   ]
  },
  {
   "cell_type": "markdown",
   "id": "4231204d-fe76-4ba4-a7fa-672706713408",
   "metadata": {},
   "source": [
    "### 1.18. Overall k-mer abundance pattern\n",
    "```\n",
    "# default k-mer size (k=3)\n",
    ">>> DNA.combined_kmer_abundance_plot(fasta_records)\n",
    "\n",
    "# kmer size (k=7)\n",
    ">>> DNA.combined_kmer_abundance_plot(fasta_records, 7)\n",
    "```\n",
    "**Output**: generate combined k-mer abundance plot (histogram) for all the sequence"
   ]
  },
  {
   "cell_type": "code",
   "execution_count": 22,
   "id": "4bf24a8e-e119-4477-8a38-cf11979fd7c9",
   "metadata": {},
   "outputs": [
    {
     "data": {
      "image/png": "[encoded data removed]",
      "text/plain": [
       "<Figure size 640x480 with 1 Axes>"
      ]
     },
     "metadata": {},
     "output_type": "display_data"
    }
   ],
   "source": [
    "# Combined kmers distribution\n",
    "DNA.combined_kmer_abundance_plot(data)"
   ]
  },
  {
   "cell_type": "markdown",
   "id": "34430724-11a0-446e-b1b7-ede5f4b17de1",
   "metadata": {},
   "source": [
    "### 1.19. Converting sequence object to feature matrix\n",
    "```\n",
    ">>> from seqplotter_analysis import seq2feature\n",
    ">>> feature_matrix = seq2feature(fasta_records) # with default options (k=3, min_sample=1)\n",
    "\n",
    ">>> feature_matrix = seq2feature(fasta_records, 6, 2) # with (k=6, min_sample=2)\n",
    "```\n",
    "**Options:**\n",
    "- k: kmer size\n",
    "- min_sample: threshold of considering a k-mer as feature\n",
    "\n",
    "**Output:** returns a dict object containing following keys (\"matrix\", \"sample\", \"kmers\"), where \"kmers\" are columns and \"sample\" are rows\n",
    "\n",
    "*< dict{\"matrix\": numpy_array, \"sample\": seqID_list, \"kmers\": kmers_list} >*"
   ]
  },
  {
   "cell_type": "code",
   "execution_count": 23,
   "id": "a4dac9d1-9f99-4ee4-b7d6-f7eb338a8781",
   "metadata": {},
   "outputs": [
    {
     "data": {
      "text/html": [
       "<div>\n",
       "<style scoped>\n",
       "    .dataframe tbody tr th:only-of-type {\n",
       "        vertical-align: middle;\n",
       "    }\n",
       "\n",
       "    .dataframe tbody tr th {\n",
       "        vertical-align: top;\n",
       "    }\n",
       "\n",
       "    .dataframe thead th {\n",
       "        text-align: right;\n",
       "    }\n",
       "</style>\n",
       "<table border=\"1\" class=\"dataframe\">\n",
       "  <thead>\n",
       "    <tr style=\"text-align: right;\">\n",
       "      <th></th>\n",
       "      <th>CTT</th>\n",
       "      <th>TTT</th>\n",
       "      <th>TTC</th>\n",
       "      <th>TCT</th>\n",
       "      <th>TTA</th>\n",
       "      <th>TAG</th>\n",
       "      <th>AGT</th>\n",
       "      <th>GTG</th>\n",
       "      <th>TGT</th>\n",
       "      <th>GTT</th>\n",
       "      <th>...</th>\n",
       "      <th>GAA</th>\n",
       "      <th>AGA</th>\n",
       "      <th>GAG</th>\n",
       "      <th>GCA</th>\n",
       "      <th>AGG</th>\n",
       "      <th>GCT</th>\n",
       "      <th>CTC</th>\n",
       "      <th>CTG</th>\n",
       "      <th>TGC</th>\n",
       "      <th>ACG</th>\n",
       "    </tr>\n",
       "  </thead>\n",
       "  <tbody>\n",
       "    <tr>\n",
       "      <th>seq1</th>\n",
       "      <td>4</td>\n",
       "      <td>10</td>\n",
       "      <td>3</td>\n",
       "      <td>2</td>\n",
       "      <td>5</td>\n",
       "      <td>2</td>\n",
       "      <td>4</td>\n",
       "      <td>2</td>\n",
       "      <td>3</td>\n",
       "      <td>3</td>\n",
       "      <td>...</td>\n",
       "      <td>0</td>\n",
       "      <td>0</td>\n",
       "      <td>0</td>\n",
       "      <td>0</td>\n",
       "      <td>0</td>\n",
       "      <td>0</td>\n",
       "      <td>0</td>\n",
       "      <td>0</td>\n",
       "      <td>0</td>\n",
       "      <td>0</td>\n",
       "    </tr>\n",
       "    <tr>\n",
       "      <th>seq2</th>\n",
       "      <td>2</td>\n",
       "      <td>5</td>\n",
       "      <td>3</td>\n",
       "      <td>1</td>\n",
       "      <td>4</td>\n",
       "      <td>1</td>\n",
       "      <td>2</td>\n",
       "      <td>1</td>\n",
       "      <td>3</td>\n",
       "      <td>3</td>\n",
       "      <td>...</td>\n",
       "      <td>0</td>\n",
       "      <td>0</td>\n",
       "      <td>0</td>\n",
       "      <td>0</td>\n",
       "      <td>0</td>\n",
       "      <td>0</td>\n",
       "      <td>0</td>\n",
       "      <td>0</td>\n",
       "      <td>0</td>\n",
       "      <td>0</td>\n",
       "    </tr>\n",
       "    <tr>\n",
       "      <th>seq3</th>\n",
       "      <td>2</td>\n",
       "      <td>5</td>\n",
       "      <td>3</td>\n",
       "      <td>1</td>\n",
       "      <td>4</td>\n",
       "      <td>1</td>\n",
       "      <td>3</td>\n",
       "      <td>1</td>\n",
       "      <td>3</td>\n",
       "      <td>3</td>\n",
       "      <td>...</td>\n",
       "      <td>0</td>\n",
       "      <td>0</td>\n",
       "      <td>0</td>\n",
       "      <td>0</td>\n",
       "      <td>0</td>\n",
       "      <td>0</td>\n",
       "      <td>0</td>\n",
       "      <td>0</td>\n",
       "      <td>0</td>\n",
       "      <td>0</td>\n",
       "    </tr>\n",
       "    <tr>\n",
       "      <th>seq4</th>\n",
       "      <td>2</td>\n",
       "      <td>5</td>\n",
       "      <td>2</td>\n",
       "      <td>1</td>\n",
       "      <td>2</td>\n",
       "      <td>1</td>\n",
       "      <td>2</td>\n",
       "      <td>1</td>\n",
       "      <td>2</td>\n",
       "      <td>2</td>\n",
       "      <td>...</td>\n",
       "      <td>1</td>\n",
       "      <td>0</td>\n",
       "      <td>0</td>\n",
       "      <td>0</td>\n",
       "      <td>0</td>\n",
       "      <td>0</td>\n",
       "      <td>0</td>\n",
       "      <td>0</td>\n",
       "      <td>0</td>\n",
       "      <td>0</td>\n",
       "    </tr>\n",
       "    <tr>\n",
       "      <th>seq5</th>\n",
       "      <td>2</td>\n",
       "      <td>0</td>\n",
       "      <td>0</td>\n",
       "      <td>2</td>\n",
       "      <td>2</td>\n",
       "      <td>3</td>\n",
       "      <td>3</td>\n",
       "      <td>2</td>\n",
       "      <td>2</td>\n",
       "      <td>0</td>\n",
       "      <td>...</td>\n",
       "      <td>7</td>\n",
       "      <td>4</td>\n",
       "      <td>3</td>\n",
       "      <td>1</td>\n",
       "      <td>3</td>\n",
       "      <td>3</td>\n",
       "      <td>3</td>\n",
       "      <td>2</td>\n",
       "      <td>0</td>\n",
       "      <td>0</td>\n",
       "    </tr>\n",
       "    <tr>\n",
       "      <th>seq6</th>\n",
       "      <td>3</td>\n",
       "      <td>10</td>\n",
       "      <td>4</td>\n",
       "      <td>12</td>\n",
       "      <td>2</td>\n",
       "      <td>1</td>\n",
       "      <td>2</td>\n",
       "      <td>0</td>\n",
       "      <td>1</td>\n",
       "      <td>0</td>\n",
       "      <td>...</td>\n",
       "      <td>0</td>\n",
       "      <td>0</td>\n",
       "      <td>0</td>\n",
       "      <td>1</td>\n",
       "      <td>0</td>\n",
       "      <td>0</td>\n",
       "      <td>8</td>\n",
       "      <td>0</td>\n",
       "      <td>0</td>\n",
       "      <td>0</td>\n",
       "    </tr>\n",
       "    <tr>\n",
       "      <th>seq7</th>\n",
       "      <td>1</td>\n",
       "      <td>3</td>\n",
       "      <td>0</td>\n",
       "      <td>1</td>\n",
       "      <td>0</td>\n",
       "      <td>1</td>\n",
       "      <td>0</td>\n",
       "      <td>0</td>\n",
       "      <td>1</td>\n",
       "      <td>0</td>\n",
       "      <td>...</td>\n",
       "      <td>2</td>\n",
       "      <td>2</td>\n",
       "      <td>2</td>\n",
       "      <td>1</td>\n",
       "      <td>1</td>\n",
       "      <td>0</td>\n",
       "      <td>0</td>\n",
       "      <td>1</td>\n",
       "      <td>1</td>\n",
       "      <td>1</td>\n",
       "    </tr>\n",
       "    <tr>\n",
       "      <th>seq8</th>\n",
       "      <td>1</td>\n",
       "      <td>0</td>\n",
       "      <td>2</td>\n",
       "      <td>2</td>\n",
       "      <td>0</td>\n",
       "      <td>0</td>\n",
       "      <td>0</td>\n",
       "      <td>0</td>\n",
       "      <td>2</td>\n",
       "      <td>0</td>\n",
       "      <td>...</td>\n",
       "      <td>0</td>\n",
       "      <td>2</td>\n",
       "      <td>3</td>\n",
       "      <td>2</td>\n",
       "      <td>0</td>\n",
       "      <td>2</td>\n",
       "      <td>3</td>\n",
       "      <td>3</td>\n",
       "      <td>1</td>\n",
       "      <td>1</td>\n",
       "    </tr>\n",
       "    <tr>\n",
       "      <th>seq9</th>\n",
       "      <td>0</td>\n",
       "      <td>2</td>\n",
       "      <td>0</td>\n",
       "      <td>0</td>\n",
       "      <td>0</td>\n",
       "      <td>0</td>\n",
       "      <td>0</td>\n",
       "      <td>0</td>\n",
       "      <td>0</td>\n",
       "      <td>0</td>\n",
       "      <td>...</td>\n",
       "      <td>0</td>\n",
       "      <td>0</td>\n",
       "      <td>0</td>\n",
       "      <td>0</td>\n",
       "      <td>0</td>\n",
       "      <td>0</td>\n",
       "      <td>0</td>\n",
       "      <td>0</td>\n",
       "      <td>0</td>\n",
       "      <td>0</td>\n",
       "    </tr>\n",
       "  </tbody>\n",
       "</table>\n",
       "<p>9 rows × 54 columns</p>\n",
       "</div>"
      ],
      "text/plain": [
       "      CTT  TTT  TTC  TCT  TTA  TAG  AGT  GTG  TGT  GTT  ...  GAA  AGA  GAG  \\\n",
       "seq1    4   10    3    2    5    2    4    2    3    3  ...    0    0    0   \n",
       "seq2    2    5    3    1    4    1    2    1    3    3  ...    0    0    0   \n",
       "seq3    2    5    3    1    4    1    3    1    3    3  ...    0    0    0   \n",
       "seq4    2    5    2    1    2    1    2    1    2    2  ...    1    0    0   \n",
       "seq5    2    0    0    2    2    3    3    2    2    0  ...    7    4    3   \n",
       "seq6    3   10    4   12    2    1    2    0    1    0  ...    0    0    0   \n",
       "seq7    1    3    0    1    0    1    0    0    1    0  ...    2    2    2   \n",
       "seq8    1    0    2    2    0    0    0    0    2    0  ...    0    2    3   \n",
       "seq9    0    2    0    0    0    0    0    0    0    0  ...    0    0    0   \n",
       "\n",
       "      GCA  AGG  GCT  CTC  CTG  TGC  ACG  \n",
       "seq1    0    0    0    0    0    0    0  \n",
       "seq2    0    0    0    0    0    0    0  \n",
       "seq3    0    0    0    0    0    0    0  \n",
       "seq4    0    0    0    0    0    0    0  \n",
       "seq5    1    3    3    3    2    0    0  \n",
       "seq6    1    0    0    8    0    0    0  \n",
       "seq7    1    1    0    0    1    1    1  \n",
       "seq8    2    0    2    3    3    1    1  \n",
       "seq9    0    0    0    0    0    0    0  \n",
       "\n",
       "[9 rows x 54 columns]"
      ]
     },
     "execution_count": 23,
     "metadata": {},
     "output_type": "execute_result"
    }
   ],
   "source": [
    "# Importing module\n",
    "from seqplotter_analysis import seq2feature\n",
    "\n",
    "# Converting sequence to feature matrix\n",
    "feature_matrix = seq2feature(data)\n",
    "\n",
    "# Visualizing feature matrix\n",
    "import pandas as pd\n",
    "pd.DataFrame(feature_matrix[\"matrix\"], index=feature_matrix[\"sample\"], columns=feature_matrix[\"kmers\"])"
   ]
  },
  {
   "cell_type": "markdown",
   "id": "97b2d2e3-47d7-448a-9e4f-0b3420cb4c55",
   "metadata": {},
   "source": [
    "### 1.20. Principal component analysis\n",
    "```\n",
    ">>> from seqplotter_analysis import PCA\n",
    ">>> pca_matrix = PCA(feature_matrix) # return pca matrix with first 2 PCs\n",
    "\n",
    ">>> pca_matrix = PCA(feature_matrix, 3) # return pca matrix with first 3 PCs\n",
    "```\n",
    "**Output:** returns a dict object containing following keys (\"matrix\", \"sample\", \"components\"), where \"components\" are columns and \"sample\" are rows\n",
    "\n",
    "*< dict{\"matrix\": numpy_array, \"sample\": seqID_list, \"components\": PCA_components} >*"
   ]
  },
  {
   "cell_type": "code",
   "execution_count": 24,
   "id": "b2483eff-fd58-428b-99d4-15626cf2a433",
   "metadata": {},
   "outputs": [
    {
     "data": {
      "text/html": [
       "<div>\n",
       "<style scoped>\n",
       "    .dataframe tbody tr th:only-of-type {\n",
       "        vertical-align: middle;\n",
       "    }\n",
       "\n",
       "    .dataframe tbody tr th {\n",
       "        vertical-align: top;\n",
       "    }\n",
       "\n",
       "    .dataframe thead th {\n",
       "        text-align: right;\n",
       "    }\n",
       "</style>\n",
       "<table border=\"1\" class=\"dataframe\">\n",
       "  <thead>\n",
       "    <tr style=\"text-align: right;\">\n",
       "      <th></th>\n",
       "      <th>PC-1</th>\n",
       "      <th>PC-2</th>\n",
       "    </tr>\n",
       "  </thead>\n",
       "  <tbody>\n",
       "    <tr>\n",
       "      <th>seq1</th>\n",
       "      <td>9.629055</td>\n",
       "      <td>2.243708</td>\n",
       "    </tr>\n",
       "    <tr>\n",
       "      <th>seq2</th>\n",
       "      <td>5.947428</td>\n",
       "      <td>3.774627</td>\n",
       "    </tr>\n",
       "    <tr>\n",
       "      <th>seq3</th>\n",
       "      <td>6.225862</td>\n",
       "      <td>4.230590</td>\n",
       "    </tr>\n",
       "    <tr>\n",
       "      <th>seq4</th>\n",
       "      <td>0.776820</td>\n",
       "      <td>1.919865</td>\n",
       "    </tr>\n",
       "    <tr>\n",
       "      <th>seq5</th>\n",
       "      <td>-9.639273</td>\n",
       "      <td>0.927017</td>\n",
       "    </tr>\n",
       "    <tr>\n",
       "      <th>seq6</th>\n",
       "      <td>3.503045</td>\n",
       "      <td>-15.066248</td>\n",
       "    </tr>\n",
       "    <tr>\n",
       "      <th>seq7</th>\n",
       "      <td>-4.161328</td>\n",
       "      <td>0.626651</td>\n",
       "    </tr>\n",
       "    <tr>\n",
       "      <th>seq8</th>\n",
       "      <td>-7.607692</td>\n",
       "      <td>0.437185</td>\n",
       "    </tr>\n",
       "    <tr>\n",
       "      <th>seq9</th>\n",
       "      <td>-4.673917</td>\n",
       "      <td>0.906603</td>\n",
       "    </tr>\n",
       "  </tbody>\n",
       "</table>\n",
       "</div>"
      ],
      "text/plain": [
       "          PC-1       PC-2\n",
       "seq1  9.629055   2.243708\n",
       "seq2  5.947428   3.774627\n",
       "seq3  6.225862   4.230590\n",
       "seq4  0.776820   1.919865\n",
       "seq5 -9.639273   0.927017\n",
       "seq6  3.503045 -15.066248\n",
       "seq7 -4.161328   0.626651\n",
       "seq8 -7.607692   0.437185\n",
       "seq9 -4.673917   0.906603"
      ]
     },
     "execution_count": 24,
     "metadata": {},
     "output_type": "execute_result"
    }
   ],
   "source": [
    "# Importing module\n",
    "from seqplotter_analysis import PCA\n",
    "\n",
    "# Performing PCA\n",
    "pca_matrix = PCA(feature_matrix)\n",
    "\n",
    "# Visualizing PCA matrix\n",
    "import pandas as pd\n",
    "pd.DataFrame(pca_matrix[\"matrix\"], index=pca_matrix[\"sample\"], columns=pca_matrix[\"components\"])"
   ]
  },
  {
   "cell_type": "markdown",
   "id": "aa4decc1-6432-48bc-ab65-3215ae1397fa",
   "metadata": {},
   "source": [
    "# 2. Working with Protein sequences"
   ]
  },
  {
   "cell_type": "markdown",
   "id": "b97cd7a1-57a8-4391-93ae-2de5f89d3aa7",
   "metadata": {},
   "source": [
    "### 2.1. Importing PROT module"
   ]
  },
  {
   "cell_type": "code",
   "execution_count": 25,
   "id": "c4772da7-a480-4ddf-93ad-dc5119e537dc",
   "metadata": {},
   "outputs": [],
   "source": [
    "# Importing module\n",
    "from seqplotter.prot import PROT"
   ]
  },
  {
   "cell_type": "markdown",
   "id": "5b2f54ba-1c4a-4b01-8b25-650e19977c59",
   "metadata": {},
   "source": [
    "### 2.2 Creating PROT object\n",
    "```\n",
    ">>> prot_seq1 = PROT(\"seqID\", \"protein_sequence\")\n",
    "```\n",
    "**Output:** retruns a DNA object with seqid and seq pair"
   ]
  },
  {
   "cell_type": "code",
   "execution_count": 26,
   "id": "606d4a4f-f545-4086-99d8-163ec57d3fb3",
   "metadata": {},
   "outputs": [],
   "source": [
    "# Creating Protein object with seqID and sequence pair\n",
    "seq1 = PROT(\"seq1\", \"VDEVGGEALGRLLVVYPWTQRFFESFGDLSTPDAV\")"
   ]
  },
  {
   "cell_type": "markdown",
   "id": "847de826-9c72-417e-80fe-17b7cb7be3fc",
   "metadata": {},
   "source": [
    "### 2.3. Sequence length\n",
    "```\n",
    ">>> prot_seq1.length()\n",
    "```\n",
    "**Output:** returns sequence length (int) in bp"
   ]
  },
  {
   "cell_type": "code",
   "execution_count": 27,
   "id": "cf8d4323-cb0a-49ec-b264-fc21a117ffd1",
   "metadata": {},
   "outputs": [
    {
     "data": {
      "text/plain": [
       "35"
      ]
     },
     "execution_count": 27,
     "metadata": {},
     "output_type": "execute_result"
    }
   ],
   "source": [
    "# print sequence length\n",
    "seq1.length()"
   ]
  },
  {
   "cell_type": "markdown",
   "id": "ba1e2d6e-a6ae-48ae-bf69-bfb7c1c49bdd",
   "metadata": {},
   "source": [
    "### 2.4. Sequence composition\n",
    "```\n",
    ">>> prot_seq1.comp()\n",
    "```\n",
    "**Output:** returns a dict object with sequence composition i.e. count of each amino acids"
   ]
  },
  {
   "cell_type": "code",
   "execution_count": 28,
   "id": "e19c1b1b-50da-42c4-a508-451a47d59fb1",
   "metadata": {},
   "outputs": [
    {
     "data": {
      "text/plain": [
       "{'A': 5.714285714285714,\n",
       " 'R': 5.166051660516605,\n",
       " 'N': 0.0,\n",
       " 'D': 7.163266076755573,\n",
       " 'C': 0.0,\n",
       " 'Q': 2.1718543403148107,\n",
       " 'E': 6.353851345091472,\n",
       " 'G': 7.909936022986237,\n",
       " 'H': 0.0,\n",
       " 'I': 0.0,\n",
       " 'L': 7.342245635482005,\n",
       " 'K': 0.0,\n",
       " 'M': 0.0,\n",
       " 'F': 5.188382310331203,\n",
       " 'P': 3.3327849177003355,\n",
       " 'S': 3.260373880823663,\n",
       " 'T': 3.1947334484658114,\n",
       " 'W': 1.567453020447904,\n",
       " 'Y': 1.5536341292308162,\n",
       " 'V': 7.701922950367426}"
      ]
     },
     "execution_count": 28,
     "metadata": {},
     "output_type": "execute_result"
    }
   ],
   "source": [
    "# print sequence composition\n",
    "seq1.comp()"
   ]
  },
  {
   "cell_type": "markdown",
   "id": "7a01dbd9-2bd6-4fd3-80e9-2afc9f7e2282",
   "metadata": {},
   "source": [
    "### 2.5. Sequence composition plot\n",
    "```\n",
    ">>> prot_comp = prot_seq1.comp()\n",
    ">>> PROT.barplot(prot_comp)\n",
    "```\n",
    "**Output:** generate barplot showing sequence composition"
   ]
  },
  {
   "cell_type": "code",
   "execution_count": 29,
   "id": "5329adfa-ab60-4f9c-bf1f-94ebf3f6c30c",
   "metadata": {},
   "outputs": [
    {
     "data": {
      "image/png": "[encoded data removed]",
      "text/plain": [
       "<Figure size 640x480 with 1 Axes>"
      ]
     },
     "metadata": {},
     "output_type": "display_data"
    }
   ],
   "source": [
    "# plot sequence composition\n",
    "comp = seq1.comp()\n",
    "PROT.barplot(comp)"
   ]
  },
  {
   "cell_type": "markdown",
   "id": "33ea0cbf-dead-4b7e-8ce4-8e8950540619",
   "metadata": {},
   "source": [
    "### 2.6. Molecular weight in KDa\n",
    "```\n",
    ">>> prot_seq1.mol_weight()\n",
    "```\n",
    "**Output:** return molecular weight (int) of a protein sequence in KDa"
   ]
  },
  {
   "cell_type": "code",
   "execution_count": 30,
   "id": "bf09ff7e-cd03-45e0-a0e9-6e6a42195561",
   "metadata": {},
   "outputs": [
    {
     "data": {
      "text/plain": [
       "3.87"
      ]
     },
     "execution_count": 30,
     "metadata": {},
     "output_type": "execute_result"
    }
   ],
   "source": [
    "# molecular weight\n",
    "seq1.mol_weight()"
   ]
  },
  {
   "cell_type": "markdown",
   "id": "2371a2a3-d306-4406-90f4-f03cc814aa93",
   "metadata": {},
   "source": [
    "### 2.7. Sequence slicing\n",
    "```\n",
    ">>> # returns amino acid for the given position\n",
    ">>> prot_seq1.slice(pos)\n",
    "\n",
    ">>> # returns amino acids between start to end position\n",
    ">>> prot_seq1.slice(start_pos, end_pos)\n",
    "```\n",
    "**Output:** returns a string that contain the sliced sequence"
   ]
  },
  {
   "cell_type": "code",
   "execution_count": 31,
   "id": "7598c3b5-15d4-43cd-9e6d-4be82c08fdac",
   "metadata": {},
   "outputs": [
    {
     "data": {
      "text/plain": [
       "'G'"
      ]
     },
     "execution_count": 31,
     "metadata": {},
     "output_type": "execute_result"
    }
   ],
   "source": [
    "# slice particular position\n",
    "seq1.slice(6)"
   ]
  },
  {
   "cell_type": "code",
   "execution_count": 32,
   "id": "40796ab6-0353-40cd-be91-f727d91c9460",
   "metadata": {},
   "outputs": [
    {
     "data": {
      "text/plain": [
       "'VGGEA'"
      ]
     },
     "execution_count": 32,
     "metadata": {},
     "output_type": "execute_result"
    }
   ],
   "source": [
    "# slice with start and end index\n",
    "seq1.slice(4,8)"
   ]
  },
  {
   "cell_type": "markdown",
   "id": "77eeddb6-de00-45da-967a-8f39ec2f5598",
   "metadata": {},
   "source": [
    "### 2.8. Reading FASTA file (Protein sequence)\n",
    "```\n",
    ">>> fasta_records = PROT.read_fasta(\"/path/to/fasta/file\")\n",
    "```\n",
    "**Output:** returns a list containing PROT object(s)"
   ]
  },
  {
   "cell_type": "code",
   "execution_count": 33,
   "id": "7ec5bd52-647c-4cec-9648-26d045eaeb4e",
   "metadata": {},
   "outputs": [],
   "source": [
    "# reading a FASTA file\n",
    "data = PROT.read_fasta(\"prot_seq.fasta\")"
   ]
  },
  {
   "cell_type": "markdown",
   "id": "19252936-d8f9-4872-9680-f48e42b058ab",
   "metadata": {},
   "source": [
    "### 2.9. Using head() and tail() functions\n",
    "```\n",
    ">>> # return summary of first 5 sequence (default)\n",
    ">>> PROT.head()\n",
    "\n",
    ">>> # return summary of first 10 sequence\n",
    ">>> PROT.head(10)\n",
    "\n",
    ">>> # return summary of last 5 sequence (default)\n",
    ">>> PROT.tail()\n",
    "\n",
    ">>> # return summary of last 10 sequence\n",
    ">>> PROT.tail(10)\n",
    "```\n",
    "**Output:** print head and tail summary of parsed FASTA file"
   ]
  },
  {
   "cell_type": "code",
   "execution_count": 34,
   "id": "df8610a6-9923-482f-b755-e23cb3d1fe85",
   "metadata": {},
   "outputs": [
    {
     "name": "stdout",
     "output_type": "stream",
     "text": [
      "seqID\tseq\n",
      "seq1:\t[MVHLTPEEKSAVTALWGKVNVDEVGGEALGRLLVVYPWTQRFFESFGDLSTPDAVMGNPKVKAHGKKVLG]\n",
      "seq2:\t[MLPFWKRLLYAAVIAGALVGADAQFWKTAGTAGSIQDSVKHYNRNEPKFPIDDSYDIVDSAGVARGDLPP]\n",
      "seq3:\t[TGQKGDRGEPGLNGLPGNPGQKGEPGRAGATGKPGLLGPPGPPGGGRGTPGPPGPKGPRGYVGAPGPQGL]\n",
      "seq4:\t[LPGATGEPGKPALCDLSLIEPLKGDKGYPGAPGAKGVQGFKGAEGLPGIPGPKGEFGFKGEKGLSGAPGN]\n"
     ]
    }
   ],
   "source": [
    "# Head\n",
    "PROT.head(5)"
   ]
  },
  {
   "cell_type": "code",
   "execution_count": 35,
   "id": "952619d2-f7b8-41a6-9ebb-a167482eb01d",
   "metadata": {},
   "outputs": [
    {
     "name": "stdout",
     "output_type": "stream",
     "text": [
      "seqID\tseq\n",
      "seq1:\t[MVHLTPEEKSAVTALWGKVNVDEVGGEALGRLLVVYPWTQRFFESFGDLSTPDAVMGNPKVKAHGKKVLG]\n",
      "seq2:\t[MLPFWKRLLYAAVIAGALVGADAQFWKTAGTAGSIQDSVKHYNRNEPKFPIDDSYDIVDSAGVARGDLPP]\n",
      "seq3:\t[TGQKGDRGEPGLNGLPGNPGQKGEPGRAGATGKPGLLGPPGPPGGGRGTPGPPGPKGPRGYVGAPGPQGL]\n",
      "seq4:\t[LPGATGEPGKPALCDLSLIEPLKGDKGYPGAPGAKGVQGFKGAEGLPGIPGPKGEFGFKGEKGLSGAPGN]\n"
     ]
    }
   ],
   "source": [
    "# Tail\n",
    "PROT.tail()"
   ]
  },
  {
   "cell_type": "markdown",
   "id": "53eb52d6-41ee-4326-b14f-6d0b79bbc7d0",
   "metadata": {},
   "source": [
    "### 2.10. Count records\n",
    "```\n",
    ">>> PROT.count(fasta_records)\n",
    "```\n",
    "**Output:** returns sequence count (int) i.e. number of records"
   ]
  },
  {
   "cell_type": "code",
   "execution_count": 36,
   "id": "4ce87bc7-22f9-4ef7-927a-1e7742c2fe62",
   "metadata": {},
   "outputs": [
    {
     "data": {
      "text/plain": [
       "4"
      ]
     },
     "execution_count": 36,
     "metadata": {},
     "output_type": "execute_result"
    }
   ],
   "source": [
    "# Sequence count\n",
    "PROT.count(data)"
   ]
  },
  {
   "cell_type": "markdown",
   "id": "3d8995d7-cff9-4e83-8c69-d357f01a31f1",
   "metadata": {},
   "source": [
    "### 2.11. Amino acids distribution plot\n",
    "```\n",
    ">>> PROT.aa_distribution_plot(fasta_records)\n",
    "```\n",
    "**Output**: generate boxplot showing overall amino acids distribution across all the sequences"
   ]
  },
  {
   "cell_type": "code",
   "execution_count": 37,
   "id": "bd587a0d-b77d-4278-8e89-b10172e04de8",
   "metadata": {},
   "outputs": [
    {
     "data": {
      "image/png": "[encoded data removed]",
      "text/plain": [
       "<Figure size 640x480 with 1 Axes>"
      ]
     },
     "metadata": {},
     "output_type": "display_data"
    }
   ],
   "source": [
    "# Boxplot aa distribution plot\n",
    "PROT.aa_distribution_plot(data)"
   ]
  },
  {
   "cell_type": "markdown",
   "id": "cae988b8-5dd2-441c-85ae-ecc53495e86b",
   "metadata": {},
   "source": [
    "### 2.12. Stacked barplot showing per sequence amino acid composition\n",
    "```\n",
    ">>> PROT.per_sequence_comp(fasta_records)\n",
    "```\n",
    "**Output:** generate stacked barplot showing per sequence amino acids composition"
   ]
  },
  {
   "cell_type": "code",
   "execution_count": 38,
   "id": "c7482ae3-2891-4448-9be2-513d1f67517a",
   "metadata": {},
   "outputs": [
    {
     "data": {
      "image/png": "[encoded data removed]",
      "text/plain": [
       "<Figure size 1000x600 with 1 Axes>"
      ]
     },
     "metadata": {},
     "output_type": "display_data"
    }
   ],
   "source": [
    "# Per sequence nucleotides composition\n",
    "PROT.per_sequence_comp(data)"
   ]
  },
  {
   "cell_type": "markdown",
   "id": "069f9cf4-52fd-467c-94f9-ef8226ebe30d",
   "metadata": {},
   "source": [
    "### 2.13. Barplot showing per sequence length\n",
    "```\n",
    "PROT.length_plot(fasta_records)\n",
    "```\n",
    "**Output:** generate barplot showing per sequence length distribution"
   ]
  },
  {
   "cell_type": "code",
   "execution_count": 39,
   "id": "b63a4c83-51ab-46e8-8cb9-cdd5c7b7174b",
   "metadata": {},
   "outputs": [
    {
     "data": {
      "image/png": "[encoded data removed]",
      "text/plain": [
       "<Figure size 640x480 with 1 Axes>"
      ]
     },
     "metadata": {},
     "output_type": "display_data"
    }
   ],
   "source": [
    "# Per sequence length \n",
    "PROT.length_plot(data)"
   ]
  },
  {
   "cell_type": "markdown",
   "id": "cb7e414b-b00a-41ca-9de8-d8abf02efa3d",
   "metadata": {},
   "source": [
    "### 2.14. Boxplot showing overall length distribution\n",
    "```\n",
    ">>> PROT.length_distribution_plot(fasta_records)\n",
    "```\n",
    "**Output:** generate boxplot showing overall length distribution across all the sequences"
   ]
  },
  {
   "cell_type": "code",
   "execution_count": 40,
   "id": "7b364230-ad31-41a0-ac97-eb030ff373e9",
   "metadata": {},
   "outputs": [
    {
     "data": {
      "image/png": "[encoded data removed]",
      "text/plain": [
       "<Figure size 640x480 with 1 Axes>"
      ]
     },
     "metadata": {},
     "output_type": "display_data"
    }
   ],
   "source": [
    "PROT.length_distribution_plot(data)"
   ]
  },
  {
   "cell_type": "markdown",
   "id": "426672e4-e973-42e3-96a7-5bfb59d91b7b",
   "metadata": {},
   "source": [
    "### 2.15. Converting sequence object to feature matrix\n",
    "```\n",
    ">>> from seqplotter_analysis import seq2feature\n",
    ">>> feature_matrix = seq2feature(fasta_records) # with default options (k=3, min_sample=1)\n",
    "\n",
    ">>> feature_matrix = seq2feature(fasta_records, 6, 2) # with (k=6, min_sample=2)\n",
    "```\n",
    "**Options:**\n",
    "- k: kmer size\n",
    "- min_sample: threshold of considering a k-mer as feature\n",
    "\n",
    "**Output:** returns a dict object containing following keys (\"matrix\", \"sample\", \"kmers\"), where \"kmers\" are columns and \"sample\" are rows\n",
    "\n",
    "*< dict{\"matrix\": numpy_array, \"sample\": seqID_list, \"kmers\": kmers_list} >*"
   ]
  },
  {
   "cell_type": "code",
   "execution_count": 41,
   "id": "a2ed333b-4231-407b-b23d-ff661275e089",
   "metadata": {},
   "outputs": [
    {
     "data": {
      "text/html": [
       "<div>\n",
       "<style scoped>\n",
       "    .dataframe tbody tr th:only-of-type {\n",
       "        vertical-align: middle;\n",
       "    }\n",
       "\n",
       "    .dataframe tbody tr th {\n",
       "        vertical-align: top;\n",
       "    }\n",
       "\n",
       "    .dataframe thead th {\n",
       "        text-align: right;\n",
       "    }\n",
       "</style>\n",
       "<table border=\"1\" class=\"dataframe\">\n",
       "  <thead>\n",
       "    <tr style=\"text-align: right;\">\n",
       "      <th></th>\n",
       "      <th>RLL</th>\n",
       "      <th>GDL</th>\n",
       "      <th>DLS</th>\n",
       "      <th>GNP</th>\n",
       "      <th>GKK</th>\n",
       "      <th>DGL</th>\n",
       "      <th>LKG</th>\n",
       "      <th>KGT</th>\n",
       "      <th>FWK</th>\n",
       "      <th>AGA</th>\n",
       "      <th>...</th>\n",
       "      <th>DAG</th>\n",
       "      <th>PGY</th>\n",
       "      <th>GYP</th>\n",
       "      <th>YPG</th>\n",
       "      <th>GAK</th>\n",
       "      <th>AKG</th>\n",
       "      <th>GFK</th>\n",
       "      <th>FKG</th>\n",
       "      <th>GRD</th>\n",
       "      <th>RDG</th>\n",
       "    </tr>\n",
       "  </thead>\n",
       "  <tbody>\n",
       "    <tr>\n",
       "      <th>seq1</th>\n",
       "      <td>1</td>\n",
       "      <td>1</td>\n",
       "      <td>1</td>\n",
       "      <td>1</td>\n",
       "      <td>1</td>\n",
       "      <td>1</td>\n",
       "      <td>1</td>\n",
       "      <td>1</td>\n",
       "      <td>0</td>\n",
       "      <td>0</td>\n",
       "      <td>...</td>\n",
       "      <td>0</td>\n",
       "      <td>0</td>\n",
       "      <td>0</td>\n",
       "      <td>0</td>\n",
       "      <td>0</td>\n",
       "      <td>0</td>\n",
       "      <td>0</td>\n",
       "      <td>0</td>\n",
       "      <td>0</td>\n",
       "      <td>0</td>\n",
       "    </tr>\n",
       "    <tr>\n",
       "      <th>seq2</th>\n",
       "      <td>1</td>\n",
       "      <td>1</td>\n",
       "      <td>0</td>\n",
       "      <td>1</td>\n",
       "      <td>0</td>\n",
       "      <td>0</td>\n",
       "      <td>1</td>\n",
       "      <td>0</td>\n",
       "      <td>2</td>\n",
       "      <td>1</td>\n",
       "      <td>...</td>\n",
       "      <td>0</td>\n",
       "      <td>0</td>\n",
       "      <td>0</td>\n",
       "      <td>0</td>\n",
       "      <td>0</td>\n",
       "      <td>0</td>\n",
       "      <td>0</td>\n",
       "      <td>0</td>\n",
       "      <td>0</td>\n",
       "      <td>0</td>\n",
       "    </tr>\n",
       "    <tr>\n",
       "      <th>seq3</th>\n",
       "      <td>0</td>\n",
       "      <td>0</td>\n",
       "      <td>0</td>\n",
       "      <td>1</td>\n",
       "      <td>1</td>\n",
       "      <td>1</td>\n",
       "      <td>1</td>\n",
       "      <td>1</td>\n",
       "      <td>0</td>\n",
       "      <td>1</td>\n",
       "      <td>...</td>\n",
       "      <td>2</td>\n",
       "      <td>2</td>\n",
       "      <td>1</td>\n",
       "      <td>1</td>\n",
       "      <td>0</td>\n",
       "      <td>0</td>\n",
       "      <td>0</td>\n",
       "      <td>0</td>\n",
       "      <td>0</td>\n",
       "      <td>0</td>\n",
       "    </tr>\n",
       "    <tr>\n",
       "      <th>seq4</th>\n",
       "      <td>0</td>\n",
       "      <td>0</td>\n",
       "      <td>1</td>\n",
       "      <td>0</td>\n",
       "      <td>0</td>\n",
       "      <td>0</td>\n",
       "      <td>1</td>\n",
       "      <td>0</td>\n",
       "      <td>0</td>\n",
       "      <td>0</td>\n",
       "      <td>...</td>\n",
       "      <td>0</td>\n",
       "      <td>0</td>\n",
       "      <td>2</td>\n",
       "      <td>2</td>\n",
       "      <td>2</td>\n",
       "      <td>2</td>\n",
       "      <td>2</td>\n",
       "      <td>2</td>\n",
       "      <td>2</td>\n",
       "      <td>2</td>\n",
       "    </tr>\n",
       "  </tbody>\n",
       "</table>\n",
       "<p>4 rows × 84 columns</p>\n",
       "</div>"
      ],
      "text/plain": [
       "      RLL  GDL  DLS  GNP  GKK  DGL  LKG  KGT  FWK  AGA  ...  DAG  PGY  GYP  \\\n",
       "seq1    1    1    1    1    1    1    1    1    0    0  ...    0    0    0   \n",
       "seq2    1    1    0    1    0    0    1    0    2    1  ...    0    0    0   \n",
       "seq3    0    0    0    1    1    1    1    1    0    1  ...    2    2    1   \n",
       "seq4    0    0    1    0    0    0    1    0    0    0  ...    0    0    2   \n",
       "\n",
       "      YPG  GAK  AKG  GFK  FKG  GRD  RDG  \n",
       "seq1    0    0    0    0    0    0    0  \n",
       "seq2    0    0    0    0    0    0    0  \n",
       "seq3    1    0    0    0    0    0    0  \n",
       "seq4    2    2    2    2    2    2    2  \n",
       "\n",
       "[4 rows x 84 columns]"
      ]
     },
     "execution_count": 41,
     "metadata": {},
     "output_type": "execute_result"
    }
   ],
   "source": [
    "# Importing module\n",
    "from seqplotter_analysis import seq2feature\n",
    "\n",
    "# Converting sequence to feature matrix\n",
    "feature_matrix = seq2feature(data)\n",
    "\n",
    "# Visualizing feature matrix\n",
    "import pandas as pd\n",
    "pd.DataFrame(feature_matrix[\"matrix\"], index=feature_matrix[\"sample\"], columns=feature_matrix[\"kmers\"])"
   ]
  },
  {
   "cell_type": "markdown",
   "id": "d1d494d3-86d6-4afe-ae9f-3e4e174cfefa",
   "metadata": {},
   "source": [
    "### 2.16 Principal component analysis\n",
    "```\n",
    ">>> from seqplotter_analysis import PCA\n",
    ">>> pca_matrix = PCA(feature_matrix) # return pca matrix with first 2 PCs\n",
    "\n",
    ">>> pca_matrix = PCA(feature_matrix, 3) # return pca matrix with first 3 PCs\n",
    "```\n",
    "**Output:** returns a dict object containing following keys (\"matrix\", \"sample\", \"components\"), where \"components\" are columns and \"sample\" are rows\n",
    "\n",
    "*< dict{\"matrix\": numpy_array, \"sample\": seqID_list, \"components\": PCA_components} >*"
   ]
  },
  {
   "cell_type": "code",
   "execution_count": 42,
   "id": "93250b7d-cd2b-4246-a04b-988fbc820b38",
   "metadata": {},
   "outputs": [
    {
     "data": {
      "text/html": [
       "<div>\n",
       "<style scoped>\n",
       "    .dataframe tbody tr th:only-of-type {\n",
       "        vertical-align: middle;\n",
       "    }\n",
       "\n",
       "    .dataframe tbody tr th {\n",
       "        vertical-align: top;\n",
       "    }\n",
       "\n",
       "    .dataframe thead th {\n",
       "        text-align: right;\n",
       "    }\n",
       "</style>\n",
       "<table border=\"1\" class=\"dataframe\">\n",
       "  <thead>\n",
       "    <tr style=\"text-align: right;\">\n",
       "      <th></th>\n",
       "      <th>PC-1</th>\n",
       "      <th>PC-2</th>\n",
       "    </tr>\n",
       "  </thead>\n",
       "  <tbody>\n",
       "    <tr>\n",
       "      <th>seq1</th>\n",
       "      <td>5.069106</td>\n",
       "      <td>-3.616282</td>\n",
       "    </tr>\n",
       "    <tr>\n",
       "      <th>seq2</th>\n",
       "      <td>2.496495</td>\n",
       "      <td>-2.811089</td>\n",
       "    </tr>\n",
       "    <tr>\n",
       "      <th>seq3</th>\n",
       "      <td>-11.398262</td>\n",
       "      <td>-0.046961</td>\n",
       "    </tr>\n",
       "    <tr>\n",
       "      <th>seq4</th>\n",
       "      <td>3.832661</td>\n",
       "      <td>6.474332</td>\n",
       "    </tr>\n",
       "  </tbody>\n",
       "</table>\n",
       "</div>"
      ],
      "text/plain": [
       "           PC-1      PC-2\n",
       "seq1   5.069106 -3.616282\n",
       "seq2   2.496495 -2.811089\n",
       "seq3 -11.398262 -0.046961\n",
       "seq4   3.832661  6.474332"
      ]
     },
     "execution_count": 42,
     "metadata": {},
     "output_type": "execute_result"
    }
   ],
   "source": [
    "# Importing module\n",
    "from seqplotter_analysis import PCA\n",
    "\n",
    "# Performing PCA\n",
    "pca_matrix = PCA(feature_matrix)\n",
    "\n",
    "# Visualizing PCA matrix\n",
    "import pandas as pd\n",
    "pd.DataFrame(pca_matrix[\"matrix\"], index=pca_matrix[\"sample\"], columns=pca_matrix[\"components\"])"
   ]
  }
 ],
 "metadata": {
  "kernelspec": {
   "display_name": "Python 3 (ipykernel)",
   "language": "python",
   "name": "python3"
  },
  "language_info": {
   "codemirror_mode": {
    "name": "ipython",
    "version": 3
   },
   "file_extension": ".py",
   "mimetype": "text/x-python",
   "name": "python",
   "nbconvert_exporter": "python",
   "pygments_lexer": "ipython3",
   "version": "3.8.18"
  }
 },
 "nbformat": 4,
 "nbformat_minor": 5
}
